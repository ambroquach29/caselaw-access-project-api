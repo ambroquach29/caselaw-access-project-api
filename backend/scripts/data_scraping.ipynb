{
 "cells": [
  {
   "cell_type": "code",
   "execution_count": null,
   "id": "22eee7c1",
   "metadata": {},
   "outputs": [],
   "source": [
    "import zipfile\n",
    "import pandas\n",
    "import requests\n",
    "import json\n",
    "import shutil\n",
    "import time\n",
    "import io\n",
    "import gzip\n",
    "from pathlib import Path"
   ]
  },
  {
   "cell_type": "code",
   "execution_count": null,
   "id": "d6bdd1bc",
   "metadata": {},
   "outputs": [],
   "source": [
    "# Zip file download for reporter (ie ca-app-4th, etc)\n",
    "# process json files within zip download into a single jsonl file per volume\n",
    "def process_volume_zip(vol: int, reporter: str):\n",
    "    BASE_VOL = vol\n",
    "    BASE_URL = f\"https://static.case.law/{reporter}/{BASE_VOL}\"\n",
    "    OUT_DIR = Path(f\"/content/{reporter}-{BASE_VOL:02d}\")\n",
    "    OUT_DIR.mkdir(parents=True, exist_ok=True)\n",
    "\n",
    "    zip_url = f\"{BASE_URL}.zip\"\n",
    "    print(f\"Downloading ZIP from {zip_url}\")\n",
    "    resp = requests.get(zip_url, stream=True)\n",
    "    # add a delay\n",
    "    time.sleep(2)\n",
    "    resp.raise_for_status()\n",
    "\n",
    "    with zipfile.ZipFile(io.BytesIO(resp.content)) as zf:\n",
    "        # Files are in a json/ folder within zip\n",
    "      case_files = [f for f in zf.namelist() if f.startswith(\n",
    "          \"json/\") and f.endswith(\".json\")]\n",
    "      print(f\" Extracting {len(case_files)} case JSON files...\")\n",
    "\n",
    "      records = []\n",
    "      for f in case_files:\n",
    "          with zf.open(f) as case_file:\n",
    "              records.append(json.load(case_file))\n",
    "\n",
    "      # Save records to JSONL\n",
    "      jsonl_path = OUT_DIR / \"cases.jsonl\"\n",
    "      with open(jsonl_path, \"w\", encoding=\"utf-8\") as f:\n",
    "          for rec in records:\n",
    "              json.dump(rec, f)\n",
    "              f.write(\"\\n\")\n",
    "\n",
    "    print(f\"Wrote {len(records)} cases to {jsonl_path}\")\n",
    "    return OUT_DIR"
   ]
  },
  {
   "cell_type": "code",
   "execution_count": null,
   "id": "e5a84b76",
   "metadata": {},
   "outputs": [],
   "source": [
    "# create loops for reporter and number of volume to download files\n",
    "reporter_volumes = {\n",
    "    \"cal-app-4th\": 248,  # get these from looking at website\n",
    "    \"cal-app-5th\": 11\n",
    "}\n",
    "\n",
    "for reporter, max_vol in reporter_volumes.items():\n",
    "  for vol in range(1, max_vol + 1):\n",
    "    try:\n",
    "      print(f\"Processing volume {vol} of {reporter}\")\n",
    "      process_volume_zip(vol, reporter)\n",
    "    except Exception as e:\n",
    "      print(f\"Error processing volume {vol} of {reporter}: {e}\")\n",
    "      break"
   ]
  },
  {
   "cell_type": "code",
   "execution_count": null,
   "id": "7feebcc1",
   "metadata": {},
   "outputs": [],
   "source": [
    "# Put all jsonl files together into one giant jsonl file\n",
    "BASE_PATH = Path(\"/content\")\n",
    "\n",
    "jsonl_paths_4th = list(BASE_PATH.glob(\"cal-app-4th-*/cases.jsonl\"))\n",
    "jsonl_paths_5th = list(BASE_PATH.glob(\"cal-app-5th-*/cases.jsonl\"))\n",
    "\n",
    "jsonl_paths = sorted(jsonl_paths_4th + jsonl_paths_5th)\n",
    "\n",
    "print(f\"Found {len(jsonl_paths)} JSONL files\")\n",
    "\n",
    "\n",
    "output_path = BASE_PATH / \"cal-app-4th-5th-all.jsonl\"\n",
    "\n",
    "with open(output_path, \"w\", encoding=\"utf-8\") as out_file:\n",
    "    total = 0\n",
    "    for path in jsonl_paths:\n",
    "        with open(path, \"r\", encoding=\"utf-8\") as f:\n",
    "            for line in f:\n",
    "                out_file.write(line)\n",
    "                total += 1\n",
    "\n",
    "print(f\"Wrote {total} combined cases to {output_path}\")"
   ]
  },
  {
   "cell_type": "code",
   "execution_count": null,
   "id": "9ab2cd43",
   "metadata": {},
   "outputs": [],
   "source": [
    "# Convert to gzip\n",
    "input_path = Path(\"/content/cal-app-4th-5th-all.jsonl\")\n",
    "output_path = input_path.with_suffix(\".jsonl.gz\")\n",
    "\n",
    "with open(input_path, \"rb\") as f_in, gzip.open(output_path, \"wb\") as f_out:\n",
    "    shutil.copyfileobj(f_in, f_out)"
   ]
  }
 ],
 "metadata": {
  "language_info": {
   "name": "python"
  }
 },
 "nbformat": 4,
 "nbformat_minor": 5
}
